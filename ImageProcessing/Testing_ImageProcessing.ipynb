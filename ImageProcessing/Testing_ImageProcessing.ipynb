{
 "cells": [
  {
   "cell_type": "markdown",
   "metadata": {},
   "source": [
    "Import statements in Python"
   ]
  },
  {
   "cell_type": "code",
   "execution_count": 2,
   "metadata": {},
   "outputs": [],
   "source": [
    "import cv2\n",
    "import os\n",
    "from __future__ import print_function # Python 2/3 compatibility\n",
    "import cv2 # Import the OpenCV library\n",
    "import numpy as np # Import Numpy library\n",
    "from statistics import mean"
   ]
  },
  {
   "cell_type": "markdown",
   "metadata": {},
   "source": [
    "### Quick validation of velocity of one pixel"
   ]
  },
  {
   "cell_type": "code",
   "execution_count": 125,
   "metadata": {},
   "outputs": [],
   "source": [
    "# Load an color image in grayscale\n",
    "img = cv2.imread('frame0.jpg',0)"
   ]
  },
  {
   "cell_type": "code",
   "execution_count": 126,
   "metadata": {},
   "outputs": [],
   "source": [
    "cv2.imshow('image',img)"
   ]
  },
  {
   "cell_type": "code",
   "execution_count": 45,
   "metadata": {},
   "outputs": [],
   "source": [
    "# 88 x 37 across 1 cm with tick marks for every 1mm\n",
    "# so 1mm is \n",
    "pixPerMM = 8.8 # pixel distance per mm\n",
    "\n",
    "# do this more systematically... take the average of the brightness\n",
    "# of the ruler!"
   ]
  },
  {
   "cell_type": "code",
   "execution_count": 72,
   "metadata": {},
   "outputs": [],
   "source": [
    "# iphone 6 fps with slo-mo\n",
    "fps = 240 # frames per second"
   ]
  },
  {
   "cell_type": "code",
   "execution_count": 73,
   "metadata": {},
   "outputs": [],
   "source": [
    "# hand calculation - brief\n",
    "# looking at frames: 123 to 131\n",
    "numFrames = 131-123\n",
    "heightPix = 1080 #from iphone settings\n",
    "pixPerMM = 8.8 # pixel distance per mm"
   ]
  },
  {
   "cell_type": "code",
   "execution_count": 74,
   "metadata": {},
   "outputs": [],
   "source": [
    "# mm per second\n",
    "seconds = numFrames/fps \n",
    "distance = heightPix/pixPerMM\n",
    "velocity = distance/seconds"
   ]
  },
  {
   "cell_type": "code",
   "execution_count": 76,
   "metadata": {},
   "outputs": [
    {
     "name": "stdout",
     "output_type": "stream",
     "text": [
      "0.03333333333333333\n"
     ]
    }
   ],
   "source": [
    "print(seconds)"
   ]
  },
  {
   "cell_type": "code",
   "execution_count": 77,
   "metadata": {
    "scrolled": true
   },
   "outputs": [
    {
     "name": "stdout",
     "output_type": "stream",
     "text": [
      "122.72727272727272\n"
     ]
    }
   ],
   "source": [
    "print(distance) # around 4.8 inches"
   ]
  },
  {
   "cell_type": "code",
   "execution_count": 78,
   "metadata": {},
   "outputs": [
    {
     "name": "stdout",
     "output_type": "stream",
     "text": [
      "3681.8181818181815\n"
     ]
    }
   ],
   "source": [
    "print(velocity) #mm per second"
   ]
  },
  {
   "cell_type": "markdown",
   "metadata": {},
   "source": [
    "From a quick validation test, we received around 3.681 m/s for the particle falling. Now, let us write functions in order for automatic distance calibration and additionally object detection and finding the average velocity from the centroids detected."
   ]
  },
  {
   "cell_type": "markdown",
   "metadata": {},
   "source": [
    "## Distance Calibration"
   ]
  },
  {
   "cell_type": "markdown",
   "metadata": {},
   "source": [
    "To do accurate distance calibration, first position a ruler to where you expect the particles to drop. You want the ruler to have definite lines at each mm mark and put the ruler was perpendicular as possible to the surface of the table.\n",
    "\n",
    "We recommend to take a quick 5 second video with the video stationary. We will be using one of the frames in order to calculate the pixel/mm ratio.\n",
    "\n",
    "Please save this calibration test as a mp4 file and save into the same directory as the script."
   ]
  },
  {
   "cell_type": "code",
   "execution_count": 127,
   "metadata": {},
   "outputs": [
    {
     "data": {
      "text/plain": [
       "True"
      ]
     },
     "execution_count": 127,
     "metadata": {},
     "output_type": "execute_result"
    }
   ],
   "source": [
    "nameCalibrationFile = \"calibration_test.mp4\"\n",
    "c=cv2.VideoCapture(nameCalibrationFile)\n",
    "c.isOpened()"
   ]
  },
  {
   "cell_type": "code",
   "execution_count": 128,
   "metadata": {},
   "outputs": [
    {
     "ename": "error",
     "evalue": "OpenCV(4.5.1) /private/var/folders/nz/vv4_9tw56nv9k3tkvyszvwg80000gn/T/pip-req-build-39p1qqfs/opencv/modules/imgcodecs/src/loadsave.cpp:753: error: (-215:Assertion failed) !_img.empty() in function 'imwrite'\n",
     "output_type": "error",
     "traceback": [
      "\u001b[0;31m---------------------------------------------------------------------------\u001b[0m",
      "\u001b[0;31merror\u001b[0m                                     Traceback (most recent call last)",
      "\u001b[0;32m<ipython-input-128-7da47c451c58>\u001b[0m in \u001b[0;36m<module>\u001b[0;34m\u001b[0m\n\u001b[1;32m     30\u001b[0m \u001b[0;34m\u001b[0m\u001b[0m\n\u001b[1;32m     31\u001b[0m     \u001b[0;31m# Calling the function\u001b[0m\u001b[0;34m\u001b[0m\u001b[0;34m\u001b[0m\u001b[0;34m\u001b[0m\u001b[0m\n\u001b[0;32m---> 32\u001b[0;31m     \u001b[0mFrameCapture\u001b[0m\u001b[0;34m(\u001b[0m\u001b[0;34m\"calibration_test.mp4\"\u001b[0m\u001b[0;34m)\u001b[0m\u001b[0;34m\u001b[0m\u001b[0;34m\u001b[0m\u001b[0m\n\u001b[0m",
      "\u001b[0;32m<ipython-input-128-7da47c451c58>\u001b[0m in \u001b[0;36mFrameCapture\u001b[0;34m(path)\u001b[0m\n\u001b[1;32m     19\u001b[0m         \u001b[0;31m# Saves the frames with frame-count\u001b[0m\u001b[0;34m\u001b[0m\u001b[0;34m\u001b[0m\u001b[0;34m\u001b[0m\u001b[0m\n\u001b[1;32m     20\u001b[0m         \u001b[0;31m# TODO: need to save into directory\u001b[0m\u001b[0;34m\u001b[0m\u001b[0;34m\u001b[0m\u001b[0;34m\u001b[0m\u001b[0m\n\u001b[0;32m---> 21\u001b[0;31m         \u001b[0mcv2\u001b[0m\u001b[0;34m.\u001b[0m\u001b[0mimwrite\u001b[0m\u001b[0;34m(\u001b[0m\u001b[0;34m\"frame%d.jpg\"\u001b[0m \u001b[0;34m%\u001b[0m \u001b[0mcount\u001b[0m\u001b[0;34m,\u001b[0m \u001b[0mimage\u001b[0m\u001b[0;34m)\u001b[0m\u001b[0;34m\u001b[0m\u001b[0;34m\u001b[0m\u001b[0m\n\u001b[0m\u001b[1;32m     22\u001b[0m \u001b[0;34m\u001b[0m\u001b[0m\n\u001b[1;32m     23\u001b[0m         \u001b[0mcount\u001b[0m \u001b[0;34m+=\u001b[0m \u001b[0;36m1\u001b[0m\u001b[0;34m\u001b[0m\u001b[0;34m\u001b[0m\u001b[0m\n",
      "\u001b[0;31merror\u001b[0m: OpenCV(4.5.1) /private/var/folders/nz/vv4_9tw56nv9k3tkvyszvwg80000gn/T/pip-req-build-39p1qqfs/opencv/modules/imgcodecs/src/loadsave.cpp:753: error: (-215:Assertion failed) !_img.empty() in function 'imwrite'\n"
     ]
    }
   ],
   "source": [
    "# Function to extract frames\n",
    "def FrameCapture(path):\n",
    "      \n",
    "    # Path to video file\n",
    "    vidObj = cv2.VideoCapture(path)\n",
    "  \n",
    "    # Used as counter variable\n",
    "    count = 0\n",
    "  \n",
    "    # checks whether frames were extracted\n",
    "    success = 1\n",
    "  \n",
    "    while success:\n",
    "  \n",
    "        # vidObj object calls read\n",
    "        # function extract frames\n",
    "        success, image = vidObj.read()\n",
    "  \n",
    "        # Saves the frames with frame-count\n",
    "        # TODO: need to save into directory\n",
    "        cv2.imwrite(\"frame%d.jpg\" % count, image)\n",
    "  \n",
    "        count += 1\n",
    "    \n",
    "    # TODO: have a break statement\n",
    "\n",
    "  \n",
    "# Driver Code\n",
    "if __name__ == '__main__':\n",
    "  \n",
    "    # Calling the function\n",
    "    FrameCapture(\"calibration_test.mp4\")"
   ]
  },
  {
   "cell_type": "markdown",
   "metadata": {},
   "source": [
    "Import slow-mo motion video and keep track of velocity"
   ]
  },
  {
   "cell_type": "code",
   "execution_count": 46,
   "metadata": {},
   "outputs": [
    {
     "data": {
      "text/plain": [
       "True"
      ]
     },
     "execution_count": 46,
     "metadata": {},
     "output_type": "execute_result"
    }
   ],
   "source": [
    "c=cv2.VideoCapture(\"pixel_test_velocity.mp4\")\n",
    "c.isOpened()"
   ]
  },
  {
   "cell_type": "code",
   "execution_count": 47,
   "metadata": {},
   "outputs": [
    {
     "ename": "error",
     "evalue": "OpenCV(4.5.1) /private/var/folders/nz/vv4_9tw56nv9k3tkvyszvwg80000gn/T/pip-req-build-39p1qqfs/opencv/modules/imgcodecs/src/loadsave.cpp:753: error: (-215:Assertion failed) !_img.empty() in function 'imwrite'\n",
     "output_type": "error",
     "traceback": [
      "\u001b[0;31m---------------------------------------------------------------------------\u001b[0m",
      "\u001b[0;31merror\u001b[0m                                     Traceback (most recent call last)",
      "\u001b[0;32m<ipython-input-47-446677b945f0>\u001b[0m in \u001b[0;36m<module>\u001b[0;34m\u001b[0m\n\u001b[1;32m      2\u001b[0m \u001b[0;34m\u001b[0m\u001b[0m\n\u001b[1;32m      3\u001b[0m     \u001b[0;31m# Calling the function\u001b[0m\u001b[0;34m\u001b[0m\u001b[0;34m\u001b[0m\u001b[0;34m\u001b[0m\u001b[0m\n\u001b[0;32m----> 4\u001b[0;31m     \u001b[0mFrameCapture\u001b[0m\u001b[0;34m(\u001b[0m\u001b[0;34m\"pixel_test_velocity.mp4\"\u001b[0m\u001b[0;34m)\u001b[0m\u001b[0;34m\u001b[0m\u001b[0;34m\u001b[0m\u001b[0m\n\u001b[0m",
      "\u001b[0;32m<ipython-input-33-78fb8ad1ea65>\u001b[0m in \u001b[0;36mFrameCapture\u001b[0;34m(path)\u001b[0m\n\u001b[1;32m     23\u001b[0m         \u001b[0;31m# Saves the frames with frame-count\u001b[0m\u001b[0;34m\u001b[0m\u001b[0;34m\u001b[0m\u001b[0;34m\u001b[0m\u001b[0m\n\u001b[1;32m     24\u001b[0m         \u001b[0;31m# TODO: need to save into directory\u001b[0m\u001b[0;34m\u001b[0m\u001b[0;34m\u001b[0m\u001b[0;34m\u001b[0m\u001b[0m\n\u001b[0;32m---> 25\u001b[0;31m         \u001b[0mcv2\u001b[0m\u001b[0;34m.\u001b[0m\u001b[0mimwrite\u001b[0m\u001b[0;34m(\u001b[0m\u001b[0;34m\"frame%d.jpg\"\u001b[0m \u001b[0;34m%\u001b[0m \u001b[0mcount\u001b[0m\u001b[0;34m,\u001b[0m \u001b[0mimage\u001b[0m\u001b[0;34m)\u001b[0m\u001b[0;34m\u001b[0m\u001b[0;34m\u001b[0m\u001b[0m\n\u001b[0m\u001b[1;32m     26\u001b[0m \u001b[0;34m\u001b[0m\u001b[0m\n\u001b[1;32m     27\u001b[0m         \u001b[0mcount\u001b[0m \u001b[0;34m+=\u001b[0m \u001b[0;36m1\u001b[0m\u001b[0;34m\u001b[0m\u001b[0;34m\u001b[0m\u001b[0m\n",
      "\u001b[0;31merror\u001b[0m: OpenCV(4.5.1) /private/var/folders/nz/vv4_9tw56nv9k3tkvyszvwg80000gn/T/pip-req-build-39p1qqfs/opencv/modules/imgcodecs/src/loadsave.cpp:753: error: (-215:Assertion failed) !_img.empty() in function 'imwrite'\n"
     ]
    }
   ],
   "source": [
    "if __name__ == '__main__':\n",
    "  \n",
    "    # Calling the function\n",
    "    FrameCapture(\"pixel_test_velocity.mp4\")"
   ]
  },
  {
   "cell_type": "markdown",
   "metadata": {},
   "source": [
    "## Object detection"
   ]
  },
  {
   "cell_type": "code",
   "execution_count": null,
   "metadata": {},
   "outputs": [],
   "source": [
    "test_video_dir = '/Users/yoo-jin/git/arcticiceclinic/ImageProcessing/pixel_test_velocity.mp4'"
   ]
  },
  {
   "cell_type": "code",
   "execution_count": 51,
   "metadata": {},
   "outputs": [],
   "source": [
    "def numFramesVideo(test_video_dir):\n",
    "    vidcapture = cv2.VideoCapture(test_video_dir)\n",
    "    fps = vidcapture.get(cv2.CAP_PROP_FPS)\n",
    "    totalNoFrames = vidcapture.get(cv2.CAP_PROP_FRAME_COUNT);\n",
    "    durationInSeconds = float(totalNoFrames) / float(fps)\n",
    "    return totalNoFrames, durationInSeconds"
   ]
  },
  {
   "cell_type": "code",
   "execution_count": 56,
   "metadata": {},
   "outputs": [
    {
     "name": "stdout",
     "output_type": "stream",
     "text": [
      "463.0 15.433333333333334\n"
     ]
    }
   ],
   "source": [
    "frames, seconds = numFramesVideo(test_video_dir)\n",
    "print(frames, seconds)"
   ]
  },
  {
   "cell_type": "code",
   "execution_count": 81,
   "metadata": {},
   "outputs": [],
   "source": [
    "#!/usr/bin/env python\n",
    "\n",
    "def object_detection(threshold, video_dir, noFrames):\n",
    "    \"\"\"\n",
    "    Input \n",
    "    threshold: pixel distance to keep track of for height and width\n",
    "    video_dir: directory path to video that is wanted to be analyzed\n",
    "    \n",
    "    Output \n",
    "    distances (list of tuples): the captured position of the centroid \n",
    "    of the bounding box\n",
    "    \"\"\"\n",
    "    distances = []\n",
    "    i = 0\n",
    "    \n",
    "    # cap = cv2.VideoCapture(0)\n",
    "    cap = cv2.VideoCapture(video_dir)\n",
    " \n",
    "    # Create the background subtractor object\n",
    "    fgbg = cv2.createBackgroundSubtractorMOG2(detectShadows=True)\n",
    " \n",
    "    while(True):\n",
    "        i = i + 1\n",
    "        # Capture frame-by-frame\n",
    "        ret, frame = cap.read()\n",
    "        \n",
    "        # Use every frame to calculate the foreground mask and update\n",
    "        # the background\n",
    "        fg_mask = fgbg.apply(frame)\n",
    " \n",
    "        # Remove salt and pepper noise with a median filter\n",
    "        fg_mask = cv2.medianBlur(fg_mask, 5) \n",
    "         \n",
    "        # Threshold the image to make it either black or white\n",
    "        thresh, fg_mask = cv2.threshold(fg_mask,127,255,cv2.THRESH_BINARY)\n",
    " \n",
    "        # Find the index of the largest contour and draw bounding box\n",
    "        contours, hierarchy = cv2.findContours(fg_mask,cv2.RETR_TREE,cv2.CHAIN_APPROX_SIMPLE)[-2:]\n",
    "        areas = [cv2.contourArea(c) for c in contours]\n",
    " \n",
    "        # If there are no countours\n",
    "        if len(areas) < 1:\n",
    " \n",
    "            # Display the resulting frame\n",
    "            cv2.imshow('frame',frame)\n",
    " \n",
    "            # If \"q\" is pressed on the keyboard, \n",
    "            if cv2.waitKey(1) & 0xFF == ord('q'):\n",
    "                break\n",
    " \n",
    "            # Go to the top of the while loop\n",
    "            continue\n",
    " \n",
    "        else:\n",
    "            # Find the largest moving object in the image\n",
    "            max_index = np.argmax(areas)\n",
    "            \n",
    "        # Draw the bounding box\n",
    "        count = contours[max_index]\n",
    "        x,y,w,h = cv2.boundingRect(count)\n",
    "        \n",
    "        # setting a threshold\n",
    "        if w>threshold and h>threshold: \n",
    "            cv2.rectangle(frame,(x,y),(x+w,y+h),(0,0,255),3)\n",
    "            # Draw circle in the center of the bounding box\n",
    "            x2 = x + int(w/2)\n",
    "            y2 = y + int(h/2)\n",
    "            \n",
    "            # Drawing a circle on any image\n",
    "            cv2.circle(frame,(x2,y2),2,(0,0,255),-1)\n",
    "            # Note that the -1 fills in the circle\n",
    "\n",
    "            # Print the centroid coordinates\n",
    "            text = \"x: \" + str(x2) + \", y: \" + str(y2)\n",
    "            cv2.putText(frame, text, (x2, y2),\n",
    "                cv2.FONT_HERSHEY_PLAIN, 1, (0, 0, 255), 4)\n",
    "            \n",
    "            distances.append((x2, y2))\n",
    "            #print(distances)\n",
    "        # Display the resulting frame\n",
    "        cv2.imshow('frame',frame)\n",
    "        \n",
    "        if i == noFrames: \n",
    "            return distances\n",
    " \n",
    "        if cv2.waitKey(1) & 0xFF == ord('q'):\n",
    "            break\n",
    "    # Close down the video stream\n",
    "    cap.release()\n",
    "    cv2.destroyAllWindows()"
   ]
  },
  {
   "cell_type": "code",
   "execution_count": 83,
   "metadata": {
    "scrolled": true
   },
   "outputs": [],
   "source": [
    "test_video_dir = '/Users/yoo-jin/git/arcticiceclinic/ImageProcessing/pixel_test_velocity.mp4'\n",
    "\n",
    "if __name__ == '__main__':\n",
    "    #print(__doc__)\n",
    "    distances = object_detection(10, test_video_dir, frames)"
   ]
  },
  {
   "cell_type": "code",
   "execution_count": 84,
   "metadata": {
    "scrolled": true
   },
   "outputs": [
    {
     "name": "stdout",
     "output_type": "stream",
     "text": [
      "[(115, 40), (114, 108), (114, 176), (113, 243), (112, 311), (458, 39), (457, 118), (457, 216), (458, 311), (459, 404), (459, 499), (460, 589), (459, 682), (459, 774), (460, 865), (461, 943), (1380, 68), (1383, 163), (1384, 272), (1388, 386), (1396, 524), (1400, 650), (1403, 778), (1405, 892), (1424, 576), (1428, 682), (1433, 793), (1440, 903), (1312, 398), (1313, 466), (1314, 532), (1315, 598), (1316, 661), (1318, 723), (1319, 784), (1321, 846), (1323, 906), (1325, 955), (1400, 321), (1402, 375), (1409, 436), (1411, 491), (1413, 545), (1414, 599), (1416, 653), (1419, 707), (1421, 761), (1422, 815), (1428, 900), (1422, 886), (1423, 935), (1180, 458), (1181, 498), (1183, 538), (1184, 579), (1185, 618), (1185, 659), (1186, 699), (1187, 739), (1611, 11), (1618, 60), (1624, 151), (1632, 248), (1638, 350), (1644, 461), (1652, 567), (1659, 677), (1666, 790), (1671, 899), (1677, 955), (1485, 202), (1488, 271), (1491, 341), (1495, 410), (1499, 480), (1502, 551), (1506, 624), (1509, 694), (1513, 766), (1517, 839), (1520, 912), (454, 904), (459, 943), (1132, 773), (1133, 821), (1135, 870), (1136, 921), (1136, 961), (1552, 961), (1316, 10), (1318, 27), (1321, 46), (1323, 64), (1506, 510), (1327, 99), (1329, 118), (1332, 136), (1334, 154), (1335, 173), (1337, 191), (1339, 209), (1522, 699), (1534, 816), (1350, 406), (1353, 457), (1353, 474), (1353, 491), (1353, 508), (1355, 541), (1355, 557), (1356, 573), (1356, 590), (1356, 605), (1357, 622), (1357, 637), (1357, 653), (1358, 669), (1358, 684), (1358, 700), (1359, 716), (1360, 732), (1360, 748), (1360, 763), (1361, 780), (1363, 811), (1535, 430), (1230, 30), (1232, 77), (1235, 157), (1234, 239), (1236, 321), (1237, 406), (1238, 494), (1240, 585), (1242, 680), (1245, 778), (1247, 878), (1249, 936), (1535, 681), (1536, 693), (1022, 16), (1021, 50), (1020, 109), (1020, 168), (1019, 230), (1019, 294), (1020, 357), (1019, 421), (1144, 50), (1143, 120), (1141, 199), (1140, 278), (1137, 361), (1136, 443), (1132, 527), (1130, 612), (1127, 700), (1124, 792), (1121, 885), (1016, 904), (1013, 959), (1151, 868), (965, 14), (966, 51), (969, 95), (971, 140), (973, 185), (976, 231), (1270, 15), (1265, 57), (1269, 117), (1273, 196), (1277, 297), (1282, 388), (1285, 486), (1291, 588), (1295, 694), (1298, 797), (1297, 897), (1377, 692), (1381, 786), (1386, 881), (1389, 949), (1220, 932), (1211, 356), (1212, 416), (1213, 475), (1214, 535), (1213, 596), (1212, 657), (1213, 719), (1213, 778), (1214, 842), (1216, 903), (1160, 598), (1160, 646), (943, 40), (943, 98), (944, 158), (945, 218), (945, 280), (948, 342), (949, 406), (950, 469), (950, 534), (949, 600), (1020, 36), (1022, 68), (1024, 117), (1025, 179), (1027, 267), (1027, 337), (1030, 419), (1031, 499), (1032, 581), (1032, 665), (1033, 751), (1032, 841), (1032, 909), (1041, 953), (994, 595), (995, 668), (998, 739), (1006, 829), (1009, 908), (1012, 959), (912, 709), (911, 753), (911, 802), (911, 849), (910, 895), (910, 943), (1059, 865), (1060, 904), (1060, 943), (1095, 950)]\n"
     ]
    }
   ],
   "source": [
    "print(distances)"
   ]
  },
  {
   "cell_type": "markdown",
   "metadata": {},
   "source": [
    "## Calculating velocity"
   ]
  },
  {
   "cell_type": "code",
   "execution_count": 87,
   "metadata": {},
   "outputs": [
    {
     "name": "stdout",
     "output_type": "stream",
     "text": [
      "498\n",
      "538\n"
     ]
    }
   ],
   "source": [
    "test = [(1181, 498), (1183, 538)]\n",
    "for j in range(len(test)):\n",
    "    print(test[j][1])"
   ]
  },
  {
   "cell_type": "code",
   "execution_count": 122,
   "metadata": {},
   "outputs": [],
   "source": [
    "def calculateVel(distances, pixMM, fps):\n",
    "    \"\"\"\n",
    "    Inputs:\n",
    "    distances: list of tuples containing the x and y positions\n",
    "    pixMM: the pixel/mm received from distance calibration\n",
    "    fps: frames per second\n",
    "    Basic calculation: \n",
    "        pixel * (mm/pixel) * one frame * frame/second = mm/second\n",
    "        \n",
    "    Outputs:\n",
    "    \n",
    "    \"\"\"\n",
    "    velocityList = []\n",
    "    for i in range(len(distances)-1):\n",
    "        # pixel difference in y direction\n",
    "        yPixdiff = abs(distances[i][1] - distances[i+1][1])\n",
    "        \n",
    "        if yPixdiff < 500: \n",
    "            velocity = yPixdiff*(1/pixMM)*1*fps\n",
    "            velocityList.append(velocity)\n",
    "            \n",
    "        print(len(velocityList))\n",
    "\n",
    "    return mean(velocityList)"
   ]
  },
  {
   "cell_type": "code",
   "execution_count": 123,
   "metadata": {},
   "outputs": [
    {
     "name": "stdout",
     "output_type": "stream",
     "text": [
      "1\n",
      "2\n",
      "3\n",
      "4\n",
      "5\n",
      "6\n",
      "7\n",
      "8\n",
      "9\n",
      "10\n",
      "11\n",
      "12\n",
      "13\n",
      "14\n",
      "15\n",
      "15\n",
      "16\n",
      "17\n",
      "18\n",
      "19\n",
      "20\n",
      "21\n",
      "22\n",
      "23\n",
      "24\n",
      "25\n",
      "26\n",
      "26\n",
      "27\n",
      "28\n",
      "29\n",
      "30\n",
      "31\n",
      "32\n",
      "33\n",
      "34\n",
      "35\n",
      "35\n",
      "36\n",
      "37\n",
      "38\n",
      "39\n",
      "40\n",
      "41\n",
      "42\n",
      "43\n",
      "44\n",
      "45\n",
      "46\n",
      "47\n",
      "48\n",
      "49\n",
      "50\n",
      "51\n",
      "52\n",
      "53\n",
      "54\n",
      "55\n",
      "55\n",
      "56\n",
      "57\n",
      "58\n",
      "59\n",
      "60\n",
      "61\n",
      "62\n",
      "63\n",
      "64\n",
      "65\n",
      "65\n",
      "66\n",
      "67\n",
      "68\n",
      "69\n",
      "70\n",
      "71\n",
      "72\n",
      "73\n",
      "74\n",
      "75\n",
      "76\n",
      "77\n",
      "78\n",
      "79\n",
      "80\n",
      "81\n",
      "82\n",
      "83\n",
      "83\n",
      "84\n",
      "85\n",
      "86\n",
      "87\n",
      "88\n",
      "89\n",
      "90\n",
      "91\n",
      "92\n",
      "93\n",
      "94\n",
      "95\n",
      "96\n",
      "97\n",
      "98\n",
      "99\n",
      "100\n",
      "101\n",
      "102\n",
      "103\n",
      "104\n",
      "105\n",
      "106\n",
      "107\n",
      "108\n",
      "109\n",
      "110\n",
      "111\n",
      "112\n",
      "113\n",
      "114\n",
      "115\n",
      "116\n",
      "117\n",
      "118\n",
      "119\n",
      "120\n",
      "121\n",
      "122\n",
      "123\n",
      "124\n",
      "125\n",
      "126\n",
      "127\n",
      "128\n",
      "129\n",
      "130\n",
      "131\n",
      "132\n",
      "133\n",
      "133\n",
      "134\n",
      "135\n",
      "136\n",
      "137\n",
      "138\n",
      "139\n",
      "140\n",
      "141\n",
      "142\n",
      "143\n",
      "144\n",
      "145\n",
      "146\n",
      "147\n",
      "148\n",
      "149\n",
      "150\n",
      "151\n",
      "152\n",
      "153\n",
      "154\n",
      "154\n",
      "155\n",
      "156\n",
      "157\n",
      "158\n",
      "159\n",
      "160\n",
      "161\n",
      "162\n",
      "163\n",
      "164\n",
      "165\n",
      "166\n",
      "167\n",
      "168\n",
      "169\n",
      "170\n",
      "171\n",
      "172\n",
      "173\n",
      "174\n",
      "175\n",
      "175\n",
      "176\n",
      "177\n",
      "178\n",
      "179\n",
      "180\n",
      "181\n",
      "182\n",
      "183\n",
      "184\n",
      "185\n",
      "186\n",
      "186\n",
      "187\n",
      "188\n",
      "189\n",
      "190\n",
      "191\n",
      "192\n",
      "193\n",
      "194\n",
      "195\n",
      "195\n",
      "196\n",
      "197\n",
      "198\n",
      "199\n",
      "200\n",
      "201\n",
      "202\n",
      "203\n",
      "204\n",
      "205\n",
      "206\n",
      "207\n",
      "208\n",
      "209\n",
      "210\n",
      "211\n",
      "212\n",
      "213\n",
      "214\n",
      "215\n",
      "216\n",
      "217\n",
      "218\n",
      "219\n",
      "220\n",
      "221\n",
      "222\n",
      "223\n",
      "224\n"
     ]
    }
   ],
   "source": [
    "pixMM = 8.8\n",
    "fps = 240\n",
    "aveVel = calculateVel(distances,pixMM,fps)"
   ]
  },
  {
   "cell_type": "code",
   "execution_count": 124,
   "metadata": {},
   "outputs": [
    {
     "name": "stdout",
     "output_type": "stream",
     "text": [
      "2269.845779220779\n"
     ]
    }
   ],
   "source": [
    "print(aveVel)"
   ]
  },
  {
   "cell_type": "code",
   "execution_count": null,
   "metadata": {},
   "outputs": [],
   "source": []
  }
 ],
 "metadata": {
  "kernelspec": {
   "display_name": "Python 3",
   "language": "python",
   "name": "python3"
  },
  "language_info": {
   "codemirror_mode": {
    "name": "ipython",
    "version": 3
   },
   "file_extension": ".py",
   "mimetype": "text/x-python",
   "name": "python",
   "nbconvert_exporter": "python",
   "pygments_lexer": "ipython3",
   "version": "3.8.3"
  }
 },
 "nbformat": 4,
 "nbformat_minor": 4
}
